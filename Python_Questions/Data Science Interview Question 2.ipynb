{
 "cells": [
  {
   "cell_type": "markdown",
   "metadata": {},
   "source": [
    "## Data Science Interview Question 2\n",
    "\n",
    "Suppose an individual is taxed 30 percent if earnings for a given week are greater than or equal to 2,000. If earnings land less than 2,000 for the week, the individual is taxed at a lower rate of 15 percent.\n",
    "\n",
    "Write a function using Python to calculate both the pre-tax and post-tax earnings for a given individual, with the ability to feed in the hourly wage and the weekly hours as inputs.\n",
    "\n",
    "For example, if an individual earns 55/hour and works for 40 hours, the function should return:\n",
    "\n",
    "* Pre-tax earnings were 55*40 = 2,200 for the week.\n",
    "\n",
    "* Post-tax earnings were 2,200*.7 (since we fall in higher tax bracket here) = 1,540 for the week\n",
    "\n",
    "* Solution will be provided in Python to premium users."
   ]
  },
  {
   "cell_type": "code",
   "execution_count": 16,
   "metadata": {},
   "outputs": [],
   "source": [
    "import pandas as pd \n",
    "import numpy as np "
   ]
  },
  {
   "cell_type": "code",
   "execution_count": 17,
   "metadata": {},
   "outputs": [],
   "source": [
    "#Return the post-tax earnings of an individual given 2,200. \n",
    "#Earnings = hours X wage \n",
    "#use an if else to define condition above and below 2000 given an input of hours and wage \n",
    "\n",
    "# if #30% tax rate for weekly earnings above $2000\n",
    "#else #15% tax rate for weekly earnings below $2000\n",
    "    \n",
    "def post_tax(hours, wage):\n",
    "    \n",
    "    earnings = hours*wage\n",
    "    \n",
    "    if earnings >= 2000:\n",
    "        \n",
    "        earnings = earnings*.70\n",
    "        \n",
    "    else:\n",
    "        \n",
    "        earnings = earnings*.85\n",
    "        \n",
    "    return earnings"
   ]
  },
  {
   "cell_type": "code",
   "execution_count": 18,
   "metadata": {},
   "outputs": [],
   "source": [
    "#compute the pre tax earnings \n",
    "#simple product between wage and houts\n",
    "\n",
    "def pre_tax(hours, wage):\n",
    "    \n",
    "    earnings = hours*wage\n",
    "    \n",
    "    return earnings"
   ]
  },
  {
   "cell_type": "code",
   "execution_count": 19,
   "metadata": {},
   "outputs": [
    {
     "name": "stdout",
     "output_type": "stream",
     "text": [
      "Enter hours worked for the week: 55\n",
      "Enter dollars paid per hour (USD): 90\n",
      "Pre-tax earnings for 55.0 hours at $90.00 per hour are $4950.00.\n",
      "Post-tax earnings for 55.0 hours at $90.00 per hour are $3465.00.\n",
      "You paid $1485.00 in taxes for this week!\n"
     ]
    }
   ],
   "source": [
    "def main():\n",
    "    \n",
    "    hours = float(input('Enter hours worked for the week: ')) #user inputs hours\n",
    "    \n",
    "    wage = float(input('Enter dollars paid per hour (USD): ')) #user inputs houry wage\n",
    "    \n",
    "    total = post_tax(hours, wage) #post tax total function\n",
    "    \n",
    "    total_pre_tax = pre_tax(hours, wage) #pre tax total function\n",
    "    \n",
    "    taxes = total_pre_tax - total #difference between pre tax and post tax to get tax paid \n",
    "    \n",
    "    print('Pre-tax earnings for {hours} hours at ${wage:.2f} per hour are ${total_pre_tax:.2f}.'\n",
    "          .format(**locals()))\n",
    "    \n",
    "    print('Post-tax earnings for {hours} hours at ${wage:.2f} per hour are ${total:.2f}.'\n",
    "          .format(**locals()))\n",
    "    \n",
    "    print('You paid ${taxes:.2f} in taxes for this week!'\n",
    "          .format(**locals()))\n",
    "\n",
    "main()"
   ]
  },
  {
   "cell_type": "code",
   "execution_count": null,
   "metadata": {},
   "outputs": [],
   "source": []
  }
 ],
 "metadata": {
  "kernelspec": {
   "display_name": "Python 3",
   "language": "python",
   "name": "python3"
  },
  "language_info": {
   "codemirror_mode": {
    "name": "ipython",
    "version": 3
   },
   "file_extension": ".py",
   "mimetype": "text/x-python",
   "name": "python",
   "nbconvert_exporter": "python",
   "pygments_lexer": "ipython3",
   "version": "3.6.6"
  }
 },
 "nbformat": 4,
 "nbformat_minor": 4
}
