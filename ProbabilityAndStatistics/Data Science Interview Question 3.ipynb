{
 "cells": [
  {
   "cell_type": "markdown",
   "metadata": {},
   "source": [
    "# Data Science Interview Question 3\n",
    "\n",
    "A population of amoebas starts with 1. After a single period, assume the amoeba can divide into 1, 2, 3, or 0 (it can die) with equal probability. What is the probability that the entire population dies out eventually?\n",
    "\n",
    "We need to consider the total law of probability to formulate our solution. The probability for this amoeba's lineage is the sum of each probability per \"cycle\"... We have exactly 3 possible ways the amoeba can divide into so lets assume they have equal probability. Since there are 4 divisions, we assume each amoeba division has a probability of 1/4th and are IID. By the law of total probability, the probability of dying out is:\n",
    "\n",
    "$P= \\frac{1}{4} + p \\frac{1}{4} + p^{2} \\frac{1}{4} + p^{3} \\frac{1}{4} $"
   ]
  },
  {
   "cell_type": "code",
   "execution_count": 1,
   "metadata": {},
   "outputs": [
    {
     "name": "stdout",
     "output_type": "stream",
     "text": [
      "Equation: .25 + .25x + .25x^2 + .25x^3\n"
     ]
    }
   ],
   "source": [
    "print(\"Equation: .25 + .25x + .25x^2 + .25x^3\")"
   ]
  },
  {
   "cell_type": "code",
   "execution_count": 2,
   "metadata": {},
   "outputs": [
    {
     "data": {
      "text/plain": [
       "array([-1.00000000e+00+0.j, -7.77156117e-16+1.j, -7.77156117e-16-1.j])"
      ]
     },
     "execution_count": 2,
     "metadata": {},
     "output_type": "execute_result"
    }
   ],
   "source": [
    "import numpy as np \n",
    "coeff= [.25, .25,.25, .25]\n",
    "np.roots(coeff)"
   ]
  },
  {
   "cell_type": "code",
   "execution_count": null,
   "metadata": {},
   "outputs": [],
   "source": []
  }
 ],
 "metadata": {
  "kernelspec": {
   "display_name": "Python 3",
   "language": "python",
   "name": "python3"
  },
  "language_info": {
   "codemirror_mode": {
    "name": "ipython",
    "version": 3
   },
   "file_extension": ".py",
   "mimetype": "text/x-python",
   "name": "python",
   "nbconvert_exporter": "python",
   "pygments_lexer": "ipython3",
   "version": "3.6.6"
  }
 },
 "nbformat": 4,
 "nbformat_minor": 4
}
